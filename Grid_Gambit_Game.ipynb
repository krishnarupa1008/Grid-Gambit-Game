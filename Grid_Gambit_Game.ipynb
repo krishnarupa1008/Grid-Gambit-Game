{
 "cells": [
  {
   "cell_type": "code",
   "execution_count": 59,
   "id": "5b09f2d8-29e0-47b3-95eb-73572397ff25",
   "metadata": {},
   "outputs": [
    {
     "name": "stdin",
     "output_type": "stream",
     "text": [
      "Enter a number between 5-10 for your desired Grid Size >>  5\n"
     ]
    },
    {
     "name": "stdout",
     "output_type": "stream",
     "text": [
      "\tWelcome to \n",
      ">>>> The Grid Game <<<<\n",
      "\n",
      "Instructions: \n",
      "You're player P and you want to get to the target T.\n",
      "There may be lots of obstacles in your way (X) which you need to avoid.\n",
      "Enter your desired move (up: U, down: D, left: L, right: R).\n",
      "Double letters gets you a double jump.\n",
      "If you wish to escape and end the game, enter E.\n",
      "\n",
      "\n",
      "T\tX\tP\t⌑\t⌑\t\n",
      "\n",
      "\n",
      "⌑\t⌑\tX\t⌑\t⌑\t\n",
      "\n",
      "\n",
      "X\t⌑\t⌑\tX\t⌑\t\n",
      "\n",
      "\n",
      "⌑\tX\t⌑\t⌑\tX\t\n",
      "\n",
      "\n",
      "⌑\tX\t⌑\t⌑\tX\t\n",
      "\n",
      "\n"
     ]
    },
    {
     "name": "stdin",
     "output_type": "stream",
     "text": [
      "\n",
      "Your move >>  ll\n"
     ]
    },
    {
     "name": "stdout",
     "output_type": "stream",
     "text": [
      "\n",
      "You've reached the target! You win! :D \n",
      "\t>> Congratulations!!! <<\n",
      "\n"
     ]
    },
    {
     "name": "stdin",
     "output_type": "stream",
     "text": [
      "Do you want to play again? (y/n) >>  y\n",
      "Enter a number between 5-10 for your desired Grid Size >>  6\n"
     ]
    },
    {
     "name": "stdout",
     "output_type": "stream",
     "text": [
      "\tWelcome to \n",
      ">>>> The Grid Game <<<<\n",
      "\n",
      "Instructions: \n",
      "You're player P and you want to get to the target T.\n",
      "There may be lots of obstacles in your way (X) which you need to avoid.\n",
      "Enter your desired move (up: U, down: D, left: L, right: R).\n",
      "Double letters gets you a double jump.\n",
      "If you wish to escape and end the game, enter E.\n",
      "\n",
      "\n",
      "T\t⌑\t⌑\t⌑\tX\t⌑\t\n",
      "\n",
      "\n",
      "X\tX\t⌑\t⌑\t⌑\t⌑\t\n",
      "\n",
      "\n",
      "X\t⌑\tX\t⌑\t⌑\tX\t\n",
      "\n",
      "\n",
      "⌑\tX\t⌑\tX\tX\tP\t\n",
      "\n",
      "\n",
      "⌑\tX\t⌑\t⌑\tX\t⌑\t\n",
      "\n",
      "\n",
      "⌑\t⌑\t⌑\tX\t⌑\t⌑\t\n",
      "\n",
      "\n"
     ]
    },
    {
     "name": "stdin",
     "output_type": "stream",
     "text": [
      "\n",
      "Your move >>  uu\n"
     ]
    },
    {
     "name": "stdout",
     "output_type": "stream",
     "text": [
      "\n",
      "T\t⌑\t⌑\t⌑\tX\t⌑\t\n",
      "\n",
      "\n",
      "X\tX\t⌑\t⌑\t⌑\tP\t\n",
      "\n",
      "\n",
      "X\t⌑\tX\t⌑\t⌑\tX\t\n",
      "\n",
      "\n",
      "⌑\tX\t⌑\tX\tX\t⌑\t\n",
      "\n",
      "\n",
      "⌑\tX\t⌑\t⌑\tX\t⌑\t\n",
      "\n",
      "\n",
      "⌑\t⌑\t⌑\tX\t⌑\t⌑\t\n",
      "\n",
      "\n"
     ]
    },
    {
     "name": "stdin",
     "output_type": "stream",
     "text": [
      "\n",
      "Your move >>  ll\n"
     ]
    },
    {
     "name": "stdout",
     "output_type": "stream",
     "text": [
      "\n",
      "T\t⌑\t⌑\t⌑\tX\t⌑\t\n",
      "\n",
      "\n",
      "X\tX\t⌑\tP\t⌑\t⌑\t\n",
      "\n",
      "\n",
      "X\t⌑\tX\t⌑\t⌑\tX\t\n",
      "\n",
      "\n",
      "⌑\tX\t⌑\tX\tX\t⌑\t\n",
      "\n",
      "\n",
      "⌑\tX\t⌑\t⌑\tX\t⌑\t\n",
      "\n",
      "\n",
      "⌑\t⌑\t⌑\tX\t⌑\t⌑\t\n",
      "\n",
      "\n"
     ]
    },
    {
     "name": "stdin",
     "output_type": "stream",
     "text": [
      "\n",
      "Your move >>  u\n"
     ]
    },
    {
     "name": "stdout",
     "output_type": "stream",
     "text": [
      "\n",
      "T\t⌑\t⌑\tP\tX\t⌑\t\n",
      "\n",
      "\n",
      "X\tX\t⌑\t⌑\t⌑\t⌑\t\n",
      "\n",
      "\n",
      "X\t⌑\tX\t⌑\t⌑\tX\t\n",
      "\n",
      "\n",
      "⌑\tX\t⌑\tX\tX\t⌑\t\n",
      "\n",
      "\n",
      "⌑\tX\t⌑\t⌑\tX\t⌑\t\n",
      "\n",
      "\n",
      "⌑\t⌑\t⌑\tX\t⌑\t⌑\t\n",
      "\n",
      "\n"
     ]
    },
    {
     "name": "stdin",
     "output_type": "stream",
     "text": [
      "\n",
      "Your move >>  ll\n"
     ]
    },
    {
     "name": "stdout",
     "output_type": "stream",
     "text": [
      "\n",
      "T\tP\t⌑\t⌑\tX\t⌑\t\n",
      "\n",
      "\n",
      "X\tX\t⌑\t⌑\t⌑\t⌑\t\n",
      "\n",
      "\n",
      "X\t⌑\tX\t⌑\t⌑\tX\t\n",
      "\n",
      "\n",
      "⌑\tX\t⌑\tX\tX\t⌑\t\n",
      "\n",
      "\n",
      "⌑\tX\t⌑\t⌑\tX\t⌑\t\n",
      "\n",
      "\n",
      "⌑\t⌑\t⌑\tX\t⌑\t⌑\t\n",
      "\n",
      "\n"
     ]
    },
    {
     "name": "stdin",
     "output_type": "stream",
     "text": [
      "\n",
      "Your move >>  e\n"
     ]
    },
    {
     "name": "stdout",
     "output_type": "stream",
     "text": [
      "Okay, see you next time! :)\n",
      "\n"
     ]
    },
    {
     "name": "stdin",
     "output_type": "stream",
     "text": [
      "Do you want to play again? (y/n) >>  n\n"
     ]
    },
    {
     "name": "stdout",
     "output_type": "stream",
     "text": [
      "Thanks for playing! Goodbye!\n"
     ]
    }
   ],
   "source": [
    "import random\n",
    "#from IPython.display import display, HTML\n",
    "\n",
    "class GameObject: # base class\n",
    "    def __init__(self, x, y):\n",
    "        self.position = [x, y]\n",
    "\n",
    "class Player(GameObject): # inherits from base class\n",
    "    def move(self, direction, grid_size):\n",
    "        new_position = self.position.copy()\n",
    "        if direction == 'l' and self.position[0] > 0:\n",
    "            new_position[0] -= 1\n",
    "        elif direction == 'r' and self.position[0] < grid_size - 1:\n",
    "            new_position[0] += 1\n",
    "        elif direction == 'u' and self.position[1] > 0:\n",
    "            new_position[1] -= 1\n",
    "        elif direction == 'd' and self.position[1] < grid_size - 1:\n",
    "            new_position[1] += 1\n",
    "        elif direction == 'll' and self.position[0] > 1:\n",
    "            new_position[0] -= 2\n",
    "        elif direction == 'rr' and self.position[0] < grid_size - 2:\n",
    "            new_position[0] += 2\n",
    "        elif direction == 'uu' and self.position[1] > 1:\n",
    "            new_position[1] -= 2\n",
    "        elif direction == 'dd' and self.position[1] < grid_size - 2:\n",
    "            new_position[1] += 2    \n",
    "        else:\n",
    "            print(\"Move NOT allowed. Try again...\")\n",
    "            return\n",
    "        return new_position\n",
    "\n",
    "class Target(GameObject): # inherits from base class\n",
    "    pass\n",
    "\n",
    "class Obstacle(GameObject): # inherits from base class\n",
    "    pass\n",
    "\n",
    "# Main game class managing the game logic\n",
    "class GridGame:\n",
    "    def __init__(self, n):\n",
    "        self.grid_size = n  # grid_size will be n x n\n",
    "        self.player = Player(random.randint(0, n-1), random.randint(0, n-1))\n",
    "        self.target = Target(0, 0) # initialized to top-left\n",
    "        while self.target.position == self.player.position:\n",
    "            self.target.position = [random.randint(0, n-1), random.randint(0, n-1)]\n",
    "        \n",
    "        self.obstacles = [] # will generate obstacles here in constructor\n",
    "        num_obstacles = int(n**2 / 3) # grid is 1/3 filled with obstacles\n",
    "        for o in range(num_obstacles):\n",
    "            obstacle_position = [random.randint(0, n-1), random.randint(0, n-1)]\n",
    "            # while loop makes sure obstacle not placed on Player/Target/other obstacles\n",
    "            while obstacle_position==self.player.position or \\\n",
    "                  obstacle_position == self.target.position or \\\n",
    "                  obstacle_position in [obs.position for obs in self.obstacles]:\n",
    "                obstacle_position = [random.randint(0, n-1), random.randint(0, n-1)]\n",
    "            self.obstacles.append(Obstacle(*obstacle_position))\n",
    "        \n",
    "        self.is_running = True\n",
    "\n",
    "    def move_player(self, direction):\n",
    "        new_position = self.player.move(direction, self.grid_size)\n",
    "\n",
    "        if new_position in [obs.position for obs in self.obstacles]:\n",
    "            print(\"Oh no! You've hit an obstacle! Move NOT allowed. Try again...\")\n",
    "        else:\n",
    "            self.player.position = new_position # update the player position since no obstacles\n",
    "            self.check_win()\n",
    "\n",
    "    def check_win(self):\n",
    "        if self.player.position == self.target.position:\n",
    "            self.is_running = False\n",
    "            print(\"\\nYou've reached the target! You win! :D \\n\\t>> Congratulations!!! <<\")\n",
    "\n",
    "    def display_grid(self):\n",
    "        for y in range(self.grid_size):\n",
    "            for x in range(self.grid_size):\n",
    "                if [x, y] == self.player.position:\n",
    "                    print(\"P\", end=\"\\t\")\n",
    "                elif [x, y] == self.target.position:\n",
    "                    print(\"T\", end=\"\\t\")\n",
    "                elif [x, y] in [obs.position for obs in self.obstacles]:\n",
    "                    print(\"X\", end=\"\\t\")\n",
    "                else:\n",
    "                    print(\"⌑\", end=\"\\t\")\n",
    "            print(\"\\n\\n\")\n",
    "\n",
    "    def play(self):\n",
    "        print(\"\\tWelcome to \\n>>>> The Grid Game <<<<\\n\")\n",
    "        print(\"Instructions: \\nYou're player P and you want to get to the target T.\"\n",
    "              \"\\nThere may be lots of obstacles in your way (X) which you need to avoid.\"\n",
    "              \"\\nEnter your desired move (up: U, down: D, left: L, right: R).\"\n",
    "              \"\\nDouble letters gets you a double jump.\"\n",
    "              \"\\nIf you wish to escape and end the game, enter E.\\n\\n\")\n",
    "        while self.is_running:\n",
    "            self.display_grid()\n",
    "            move = input(\"\\nYour move >> \").strip().lower()\n",
    "            if move == 'e':\n",
    "                print(\"Okay, see you next time! :)\")\n",
    "                self.is_running = False\n",
    "            else:\n",
    "                self.move_player(move)\n",
    "            print()\n",
    "\n",
    "if __name__ == \"__main__\":\n",
    "    # n = int(input(\"Enter a number between 5-10 for your desired Grid Size >> \"))\n",
    "    # while n is not number or n<5 or n>10:\n",
    "    # try:\n",
    "    #     except:\n",
    "    # if n < 5 or n > 10:\n",
    "    #     print()\n",
    "    \n",
    "    # game = GridGame(n)\n",
    "    # game.play()\n",
    "\n",
    "    while True:\n",
    "        try:\n",
    "            n = int(input(\"Enter a number between 5-10 for your desired Grid Size >> \"))\n",
    "            if n < 5 or n > 10:\n",
    "                raise ValueError(\"The number must be between 5 and 10.\")\n",
    "        except ValueError as e:\n",
    "            print(f\"Invalid input: {e}. Please try again.\")\n",
    "        \n",
    "        game = GridGame(n)\n",
    "        game.play()\n",
    "\n",
    "        play_again = input(\"Do you want to play again? (y/n) >> \").strip().lower()\n",
    "        if play_again != 'y':\n",
    "            print(\"Thanks for playing! Goodbye!\")\n",
    "            break"
   ]
  },
  {
   "cell_type": "code",
   "execution_count": 55,
   "id": "0aca4209-3fe0-4b0a-8676-445a4244f667",
   "metadata": {},
   "outputs": [],
   "source": [
    "# Ideas for future enhancements:\n",
    "# use a GUI or use HTML to color code the output grid pieces\n",
    "# set min distance to T (from P)\n",
    "# while loop: prompted to play again?\n",
    "# obstacles move around a bit each turn\n",
    "# build logic to prevent invalid grid_size: if they enter num too small/large/invalid, make them enter again.\n",
    "# ask them how many users would like to play? 1 to 3 users allowed\n",
    "# count the number of moves they take to get to target. lowest moves = winner.\n",
    "# ask them if they'd like to play against the computer - build a computer opponent\n",
    "# make sure player and target are not enclosed in obstacles for a 2-block radius. (1-block radius is fine, as player can jump.)"
   ]
  },
  {
   "cell_type": "code",
   "execution_count": null,
   "id": "914228ae-00c1-4cf1-ab75-aa3f32e1b96b",
   "metadata": {},
   "outputs": [],
   "source": []
  },
  {
   "cell_type": "code",
   "execution_count": null,
   "id": "f6eec754-16cb-493d-910c-6a02fbdc6c63",
   "metadata": {},
   "outputs": [],
   "source": []
  }
 ],
 "metadata": {
  "kernelspec": {
   "display_name": "Python 3 (ipykernel)",
   "language": "python",
   "name": "python3"
  },
  "language_info": {
   "codemirror_mode": {
    "name": "ipython",
    "version": 3
   },
   "file_extension": ".py",
   "mimetype": "text/x-python",
   "name": "python",
   "nbconvert_exporter": "python",
   "pygments_lexer": "ipython3",
   "version": "3.11.7"
  }
 },
 "nbformat": 4,
 "nbformat_minor": 5
}
